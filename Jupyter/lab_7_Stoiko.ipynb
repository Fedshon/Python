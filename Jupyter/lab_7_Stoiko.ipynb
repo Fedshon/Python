{
 "cells": [
  {
   "cell_type": "markdown",
   "metadata": {},
   "source": [
    "---\n",
    "# __Лабораторна робота №7__\n",
    "\n",
    "---"
   ]
  },
  {
   "cell_type": "markdown",
   "metadata": {},
   "source": [
    "__Мета:__ _навчитися працювати зі структурами даних Кортеж та Словник. Навчитись обробляти основні типи винятків_"
   ]
  },
  {
   "cell_type": "markdown",
   "metadata": {},
   "source": [
    "## Примітка\n",
    "У лабораторній роботі використано матеріали [python institute.](https://pythoninstitute.org/pcep) "
   ]
  },
  {
   "cell_type": "markdown",
   "metadata": {
    "tags": []
   },
   "source": [
    "## Що ви будете вміти?\n",
    "* створювати та обробляти кортежі (`tuple`).\n",
    "* створювати і обробляти словники (`dict`).\n",
    "* сумісно викростовувати словники і кортежі\n",
    "* обробляти основні типи винятків."
   ]
  },
  {
   "cell_type": "markdown",
   "metadata": {},
   "source": [
    "## Робота зі словниками"
   ]
  },
  {
   "cell_type": "markdown",
   "metadata": {},
   "source": [
    "### Приклад 1\n",
    "\n",
    "Створіть кортеж, який містить інформацію про результати іспитів з трьох предметів для студента (наприклад, математика, фізика та хімія). Виведіть на екран середній бал та максимальний бал."
   ]
  },
  {
   "cell_type": "code",
   "execution_count": 36,
   "metadata": {},
   "outputs": [
    {
     "name": "stdout",
     "output_type": "stream",
     "text": [
      "Середній бал: 81.66666666666667\n",
      "Максимальний бал: 90\n"
     ]
    }
   ],
   "source": [
    "# results = (80, 75, 90)\n",
    "\n",
    "average_score = sum(results) / len(results)\n",
    "max_score = max(results)\n",
    "\n",
    "print(f\"Середній бал: {average_score}\")\n",
    "print(f\"Максимальний бал: {max_score}\")"
   ]
  },
  {
   "cell_type": "markdown",
   "metadata": {},
   "source": [
    "У цьому коді ми створюємо кортеж `results`, який містить оцінки студента з трьох предметів. Потім ми обчислюємо середній бал, використовуючи вбудовані функції `sum` та `len`, та максимальний бал, використовуючи вбудовану функцію `max`. Нарешті, ми виводимо ці значення на екран за допомогою функції `print`. Водночас ми продемонстрували один з варіантів форматованого виводу."
   ]
  },
  {
   "cell_type": "markdown",
   "metadata": {},
   "source": [
    "### Приклад 2 "
   ]
  },
  {
   "cell_type": "markdown",
   "metadata": {},
   "source": [
    "Створіть програму, яка буде обчислювати площу трикутника за трьома сторонами, які користувач введе з клавіатури. Збережіть введені користувачем значення за допомогою кортежів та виведіть їх на екран."
   ]
  },
  {
   "cell_type": "code",
   "execution_count": 37,
   "metadata": {},
   "outputs": [
    {
     "name": "stdin",
     "output_type": "stream",
     "text": [
      "Введіть довжину першої сторони трикутника:  1\n",
      "Введіть довжину другої сторони трикутника:  2\n",
      "Введіть довжину третьої сторони трикутника:  3\n"
     ]
    },
    {
     "name": "stdout",
     "output_type": "stream",
     "text": [
      "Довжина сторін трикутника: (1.0, 2.0, 3.0)\n",
      "Площа трикутника: 0.0\n"
     ]
    }
   ],
   "source": [
    "a = float(input(\"Введіть довжину першої сторони трикутника: \"))\n",
    "b = float(input(\"Введіть довжину другої сторони трикутника: \"))\n",
    "c = float(input(\"Введіть довжину третьої сторони трикутника: \"))\n",
    "\n",
    "p = (a + b + c) / 2\n",
    "\n",
    "area = (p * (p - a) * (p - b) * (p - c)) ** 0.5\n",
    "\n",
    "triangle_sides = (a, b, c)\n",
    "\n",
    "print(f\"Довжина сторін трикутника: {triangle_sides}\")\n",
    "print(f\"Площа трикутника: {area}\")\n"
   ]
  },
  {
   "cell_type": "markdown",
   "metadata": {},
   "source": [
    "У цьому прикладі ми використовуємо кортеж `triangle_sides`, щоб зберегти довжини трьох сторін трикутника, які введені користувачем з клавіатури. "
   ]
  },
  {
   "cell_type": "markdown",
   "metadata": {},
   "source": [
    "### Приклад 3 "
   ]
  },
  {
   "cell_type": "markdown",
   "metadata": {},
   "source": [
    "Напишіть програму, яка змінює порядок елементів у кортежі. Користувач повинен ввести кортеж, а програма повинна вивести його елементи у зворотному порядку."
   ]
  },
  {
   "cell_type": "code",
   "execution_count": 38,
   "metadata": {},
   "outputs": [
    {
     "name": "stdin",
     "output_type": "stream",
     "text": [
      "Введіть елементи кортежу, розділені комою:  1, 2, 3, 4, 5\n"
     ]
    },
    {
     "name": "stdout",
     "output_type": "stream",
     "text": [
      "Зворотний порядок елементів кортежу: (' 5', ' 4', ' 3', ' 2', '1')\n"
     ]
    }
   ],
   "source": [
    "t = tuple(input(\"Введіть елементи кортежу, розділені комою: \").split(','))\n",
    "\n",
    "reversed_t = t[::-1]\n",
    "\n",
    "print(f\"Зворотний порядок елементів кортежу: {reversed_t}\")"
   ]
  },
  {
   "cell_type": "markdown",
   "metadata": {},
   "source": [
    "У цьому прикладі ми використовуємо оператор зрізу `[::]`, щоб змінити порядок елементів у кортежі `t` на зворотний порядок. Потім ми виводимо на екран зворотний порядок елементів у новому кортежі `reversed_t`.\n",
    "\n",
    "Наприклад, якщо користувач введе `\"1,2,3,4,5\"`, програма виведе на екран: \"Зворотний порядок елементів кортежу: `('5', '4', '3', '2', '1')`."
   ]
  },
  {
   "cell_type": "markdown",
   "metadata": {},
   "source": [
    "### Завдання 1"
   ]
  },
  {
   "cell_type": "markdown",
   "metadata": {},
   "source": [
    "Напишіть програму, яка створює кортеж зі списку чисел, а потім виводить на екран всі числа, які менші за задане число `n`. Умова: користувач вводить число `n`, і   щоб створити новий список `result`, який містить всі числа з кортежу, які менші за `n`, реалізувати за допомогою генератора списків."
   ]
  },
  {
   "cell_type": "code",
   "execution_count": 2,
   "metadata": {
    "tags": []
   },
   "outputs": [
    {
     "name": "stdin",
     "output_type": "stream",
     "text": [
      "Введіть число n:  6\n"
     ]
    },
    {
     "name": "stdout",
     "output_type": "stream",
     "text": [
      "Числа, які менші за 6 : [1, 2, 3, 4, 5]\n"
     ]
    }
   ],
   "source": [
    "numbers = (1, 2, 3, 4, 5, 6, 7, 8, 9, 10)\n",
    "n = int(input(\"Введіть число n: \"))\n",
    "result = [x for x in numbers if x < n]\n",
    "print(\"Числа, які менші за\", n, \":\", result)"
   ]
  },
  {
   "cell_type": "markdown",
   "metadata": {},
   "source": [
    "### Завдання 2\n",
    "Напишіть програму, яка створює кортеж з трьох елементів, які є рядками, та з'єднує їх в один рядок з комою як роздільником. Примітка: з'єднати рядки також можна за допомогою методу `.joint()`"
   ]
  },
  {
   "cell_type": "code",
   "execution_count": 2,
   "metadata": {
    "tags": []
   },
   "outputs": [
    {
     "name": "stdout",
     "output_type": "stream",
     "text": [
      "\n",
      "dadada 1, nenenene 2, zachemzachem 3\n",
      "\n"
     ]
    }
   ],
   "source": [
    "strings = (\"\\ndadada 1\", \"nenenene 2\", \"zachemzachem 3\\n\")\n",
    "result = \", \".join(strings)\n",
    "print(result)"
   ]
  },
  {
   "cell_type": "markdown",
   "metadata": {},
   "source": [
    "### Завдання 3 "
   ]
  },
  {
   "cell_type": "markdown",
   "metadata": {},
   "source": [
    "Створіть словник, який містить інформацію про книги в бібліотеці. Ключами будуть назви книг, а значеннями - автори, рік видання та кількість сторінок. Виведіть на екран інформацію про книгу, введену користувачем."
   ]
  },
  {
   "cell_type": "code",
   "execution_count": 3,
   "metadata": {
    "tags": []
   },
   "outputs": [
    {
     "name": "stdin",
     "output_type": "stream",
     "text": [
      "Введіть назву книги:  Любовник\n"
     ]
    },
    {
     "name": "stdout",
     "output_type": "stream",
     "text": [
      "Інформація про книгу 'Любовник':\n",
      "Автор: Хералд Гуард\n",
      "Рік видання: 1819\n",
      "Кількість сторінок: 400\n"
     ]
    }
   ],
   "source": [
    "library = {\n",
    "    \"Джим Керри\": {\"Автор\": \"Тедди Ватсон\", \"Рік видання\": 1876, \"Кількість сторінок\": 275},\n",
    "    \"Комик\": {\"Автор\": \"Джош Буш\", \"Рік видання\": 1883, \"Кількість сторінок\": 350},\n",
    "    \"Любовник\": {\"Автор\": \"Хералд Гуард\", \"Рік видання\": 1819, \"Кількість сторінок\": 400},\n",
    "}\n",
    "book_title = input(\"Введіть назву книги: \")\n",
    "if book_title in library:\n",
    "    book_info = library[book_title]\n",
    "    print(f\"Інформація про книгу '{book_title}':\")\n",
    "    for key, value in book_info.items():\n",
    "        print(f\"{key}: {value}\")\n",
    "else:\n",
    "    print(f\"\\nКнига '{book_title}' не знайдена в бібліотеці.\")"
   ]
  },
  {
   "cell_type": "markdown",
   "metadata": {},
   "source": [
    "## Сумісна робота зі словниками і кортежами"
   ]
  },
  {
   "cell_type": "markdown",
   "metadata": {},
   "source": [
    "### Приклад 1"
   ]
  },
  {
   "cell_type": "markdown",
   "metadata": {},
   "source": [
    "Написати програму, яка веде облік студентів групи, забезпечуючи можливість зберігати ім'я і прізвище студента та його оцінки, і виводить середній бал по предметах."
   ]
  },
  {
   "cell_type": "code",
   "execution_count": 22,
   "metadata": {},
   "outputs": [],
   "source": [
    "# school_class = {}\n",
    "\n",
    "# while True:\n",
    "#     name = input(\"Enter the student's name: \")\n",
    "#     if name == '':\n",
    "#         break\n",
    "    \n",
    "#     score = int(input(\"Enter the student's score (0-10): \"))\n",
    "#     if score not in range(0, 11):\n",
    "# \t    break\n",
    "    \n",
    "#     if name in school_class:\n",
    "#         school_class[name] += (score,)\n",
    "#     else:\n",
    "#         school_class[name] = (score,)\n",
    "        \n",
    "# for name in sorted(school_class.keys()):\n",
    "#     adding = 0\n",
    "#     counter = 0\n",
    "#     for score in school_class[name]:\n",
    "#         adding += score\n",
    "#         counter += 1\n",
    "#     print(name, \":\", adding / counter)"
   ]
  },
  {
   "cell_type": "markdown",
   "metadata": {},
   "source": [
    "### Завдання 4"
   ]
  },
  {
   "cell_type": "markdown",
   "metadata": {},
   "source": [
    "Напишіть програму, яка створює словник, що містить інформацію про студентів, використовуючи вказані кортежі в якості значень. Кожен ключ -- це прізвище студента. Виведіть на екран інформацію про студента, введеного користувачем."
   ]
  },
  {
   "cell_type": "code",
   "execution_count": 4,
   "metadata": {
    "tags": []
   },
   "outputs": [
    {
     "name": "stdin",
     "output_type": "stream",
     "text": [
      "\n",
      "Введіть прізвище студента:  Стойко\n"
     ]
    },
    {
     "name": "stdout",
     "output_type": "stream",
     "text": [
      "Прізвище: Стойко\n",
      "Ім'я: Севастян\n",
      "Вік: 25 років\n",
      "Спеціальність: Психологія\n"
     ]
    }
   ],
   "source": [
    "students = {\n",
    "    \"Шевцов\": (\"Алексей\", 20, \"Інформатика\"),\n",
    "    \"Марк\": (\"Мирон\", 22, \"Математика\"),\n",
    "    \"Техник\": (\"Павел\", 19, \"Фізика\"),\n",
    "    \"Огурцов\": (\"Семен\", 23, \"Хімія\"),\n",
    "    \"Платон\": (\"Никита\", 18, \"Економіка\"),\n",
    "    \"Стойко\": (\"Севастян\", 25, \"Психологія\"),\n",
    "    \"Волох\": (\"Ростислав\", 21, \"Соціологія\"),\n",
    "    \"Пивовар\": (\"Андрій\", 27, \"Історія\"),\n",
    "    \"Васильчук\": (\"Анна\", 24, \"Біологія\"),\n",
    "    \"Сивуха\": (\"Ярослав\", 26, \"Географія\"),\n",
    "    \"Хованский\": (\"Максим\", 20, \"Філософія\"),\n",
    "    \"Джарахов\": (\"Єльдар\", 19, \"Література\"),\n",
    "}\n",
    "surname = input(\"\\nВведіть прізвище студента: \")\n",
    "if surname in students:\n",
    "    name, age, specialty = students[surname]\n",
    "    print(f\"Прізвище: {surname}\")\n",
    "    print(f\"Ім'я: {name}\")\n",
    "    print(f\"Вік: {age} років\")\n",
    "    print(f\"Спеціальність: {specialty}\")\n",
    "else:\n",
    "    print(\"\\nСтудента з таким прізвищем не знайдено.\\n\")"
   ]
  },
  {
   "cell_type": "markdown",
   "metadata": {},
   "source": [
    "### Завдання 5"
   ]
  },
  {
   "cell_type": "markdown",
   "metadata": {},
   "source": [
    "Створіть словник, який містить інформацію про більше, ніж один номер телефону для кожного з контактів в телефонній книзі. Ключами будуть імена контактів, а значеннями - список їхніх номерів телефонів. Напишіть функцію, яка дозволяє додати новий номер телефону до списку номерів телефону певного контакту. Потім виведіть на екран список номерів телефонів для всіх контактів."
   ]
  },
  {
   "cell_type": "code",
   "execution_count": 5,
   "metadata": {
    "tags": []
   },
   "outputs": [
    {
     "name": "stdin",
     "output_type": "stream",
     "text": [
      "\n",
      "Введіть ім'я контакту (або 'вийти' для завершення):  Никита\n",
      "\n",
      "Введіть новий номер телефону:  660-550-440\n",
      "\n",
      "Введіть ім'я контакту (або 'вийти' для завершення):  Єльдар\n",
      "\n",
      "Введіть новий номер телефону:  456456456\n",
      "\n",
      "Введіть ім'я контакту (або 'вийти' для завершення):  вийти\n"
     ]
    },
    {
     "name": "stdout",
     "output_type": "stream",
     "text": [
      "Контакт: Ярослав\n",
      "Номери телефонів: 121-121-121, 121-121-122\n",
      "\n",
      "Контакт: Єльдар\n",
      "Номери телефонів: 456-456-456, 123-123-123, 111-222-333, 456456456\n",
      "\n",
      "Контакт: Никита\n",
      "Номери телефонів: 990-880-770, 660-550-440, 660-550-440\n",
      "\n",
      "Контакт: Павел\n",
      "Номери телефонів: 115-116-117, 225-226-227, 335-336-337\n",
      "\n",
      "Контакт: Андрій\n",
      "Номери телефонів: 181-191-101, 282-292-202\n",
      "\n",
      "Контакт: Ростислав\n",
      "Номери телефонів: 424-482-848, 609-506-106\n",
      "\n"
     ]
    }
   ],
   "source": [
    "phonebook = {\n",
    "     \"Ярослав\": [\"121-121-121\", \"121-121-122\"],\n",
    "    \"Єльдар\": [\"456-456-456\", \"123-123-123\", \"111-222-333\"],\n",
    "    \"Никита\": [\"990-880-770\", \"660-550-440\"],\n",
    "    \"Павел\": [\"115-116-117\", \"225-226-227\", \"335-336-337\"],\n",
    "    \"Андрій\": [\"181-191-101\", \"282-292-202\"],\n",
    "    \"Ростислав\": [\"424-482-848\", \"609-506-106\"],\n",
    "}\n",
    "def add_phone_number(contact_name, new_phone_number):\n",
    "    if contact_name in phonebook:\n",
    "        phonebook[contact_name].append(new_phone_number)\n",
    "    else:\n",
    "        phonebook[contact_name] = [new_phone_number]\n",
    "def display_phonebook():\n",
    "    for contact, phone_numbers in phonebook.items():\n",
    "        print(f\"Контакт: {contact}\")\n",
    "        print(f\"Номери телефонів: {', '.join(phone_numbers)}\")\n",
    "        print()\n",
    "while True:\n",
    "    contact_name = input(\"\\nВведіть ім'я контакту (або 'вийти' для завершення): \")\n",
    "    if contact_name.lower() == 'вийти':\n",
    "        break\n",
    "    phone_number = input(\"\\nВведіть новий номер телефону: \")\n",
    "    add_phone_number(contact_name, phone_number)\n",
    "display_phonebook()"
   ]
  },
  {
   "cell_type": "markdown",
   "metadata": {},
   "source": [
    "## Завдання для самостіної роботи\n",
    "\n",
    "1. Виконати завдання 1-5 наведені вище у цьому зошиті.\n",
    "\n",
    "1. Створити файл __lab_7_StudentLastName.py__ з написаним кодом. \n",
    "\n",
    "1. Закомітити файл у локальний репозиторій.\n",
    "\n",
    "1. Відправити (\"запушити\") поточну версію Git-проєкта у віддалений репозиторій на GitHub.\n",
    "\n",
    "1. Звіт має складатися з файлу (за основу взяти __цей Python-зошит__)  `lab_7_StudentLastName.ipynb`. (Можливі якісь додакові файли)"
   ]
  },
  {
   "cell_type": "markdown",
   "metadata": {},
   "source": [
    "## Контрольні запитання\n",
    "\n",
    "1. Що виведе наступний код?\n",
    "\n",
    "```\n",
    "my_tuple = (1, 2, 3)\n",
    "print(my_tuple[1:])\n",
    "```\n",
    "\n",
    "2, 3.\n",
    "\n",
    "2. Що виведе наступний код?\n",
    "```\n",
    "my_dict = {'a': 1, 'b': 2, 'c': 3}\n",
    "print(my_dict.get('d', 4))\n",
    "```\n",
    "\n",
    "4\n",
    "\n",
    "3. Що виведе наступний код?\n",
    "```\n",
    "my_tuple = (1, 2, 3)\n",
    "my_tuple[0] = 4\n",
    "print(my_tuple)\n",
    "```\n",
    "\n",
    "Помилка.\n",
    "\n",
    "4. Що виведе наступний код?\n",
    "```\n",
    "my_dict = {'a': 1, 'b': 2, 'c': 3}\n",
    "my_dict.update({'d': 4})\n",
    "print(my_dict)\n",
    "```\n",
    "\n",
    "'a': 1, 'b': 2, 'c': 3, 'd': 4"
   ]
  },
  {
   "cell_type": "markdown",
   "metadata": {},
   "source": [
    "## References"
   ]
  },
  {
   "cell_type": "markdown",
   "metadata": {},
   "source": [
    "1. [Anaconda (Python distribution)](https://uk.wikipedia.org/wiki/Anaconda_(Python_distribution))\n",
    "2. [Conda](https://conda.io/en/latest/)\n",
    "3. [Pro Git Book](https://git-scm.com/book/en/v2)\n",
    "4. [OpenEDG Python Institute](https://pythoninstitute.org/)\n",
    "5. [Cisco. Networking Academy](https://www.netacad.com/)\n",
    "6. [Научно-издательская система Quarto](https://data-visualization-blog.netlify.app/posts/quarto/)"
   ]
  }
 ],
 "metadata": {
  "kernelspec": {
   "display_name": "Python 3 (ipykernel)",
   "language": "python",
   "name": "python3"
  },
  "language_info": {
   "codemirror_mode": {
    "name": "ipython",
    "version": 3
   },
   "file_extension": ".py",
   "mimetype": "text/x-python",
   "name": "python",
   "nbconvert_exporter": "python",
   "pygments_lexer": "ipython3",
   "version": "3.11.5"
  }
 },
 "nbformat": 4,
 "nbformat_minor": 4
}
